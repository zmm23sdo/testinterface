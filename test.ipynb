{
 "cells": [
  {
   "cell_type": "code",
   "execution_count": null,
   "source": [
    "import random\n",
    " \n",
    "def raddomPhone():\n",
    "    headList = [\"130\", \"131\", \"132\", \"133\", \"134\", \"135\", \"136\", \"137\", \"138\", \"139\",\n",
    "               \"147\", \"150\", \"151\", \"152\", \"153\", \"155\", \"156\", \"157\", \"158\", \"159\",\n",
    "               \"186\", \"187\", \"188\", \"189\"]\n",
    "    return (random.choice(headList) + \"\".join(random.choice(\"0123456789\") for i in range(8)))\n",
    " \n",
    " \n",
    "raddomPhone()"
   ],
   "outputs": [],
   "metadata": {}
  }
 ],
 "metadata": {
  "orig_nbformat": 4,
  "language_info": {
   "name": "python"
  }
 },
 "nbformat": 4,
 "nbformat_minor": 2
}