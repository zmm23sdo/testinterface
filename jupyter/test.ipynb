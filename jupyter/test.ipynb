{
 "cells": [
  {
   "cell_type": "code",
   "execution_count": 3,
   "source": [
    "import random\n",
    " \n",
    "def raddomPhone():\n",
    "    headList = [\"130\", \"131\", \"132\", \"133\", \"134\", \"135\", \"136\", \"137\", \"138\", \"139\",\n",
    "               \"147\", \"150\", \"151\", \"152\", \"153\", \"155\", \"156\", \"157\", \"158\", \"159\",\n",
    "               \"186\", \"187\", \"188\", \"189\"]\n",
    "    return (random.choice(headList) + \"\".join(random.choice(\"0123456789\") for i in range(8)))\n",
    " \n",
    " \n",
    "raddomPhone()"
   ],
   "outputs": [
    {
     "output_type": "execute_result",
     "data": {
      "text/plain": [
       "'15504451326'"
      ]
     },
     "metadata": {},
     "execution_count": 3
    }
   ],
   "metadata": {}
  },
  {
   "cell_type": "code",
   "execution_count": null,
   "source": [
    "#获取登录的用户作为审核人\n",
    "for x in xxx_list[\"data\"]:\n",
    "    if x[\"name\"] == username_test:\n",
    "        # print(x[\"id\"],x[\"name\"])\n",
    "        user_executiveSellerId = str(x[\"id\"])\n",
    "        # print(\"查询获取可查看审核人id：\",user_executiveSellerId)\n",
    "        break"
   ],
   "outputs": [],
   "metadata": {}
  },
  {
   "cell_type": "code",
   "execution_count": null,
   "source": [
    "headers = {'Authorization': 'Bearer '+token}#还原headers"
   ],
   "outputs": [],
   "metadata": {}
  },
  {
   "cell_type": "code",
   "execution_count": null,
   "source": [
    "{\"Engine Acceleration\":[{\"photos\":[\"car/158/damage/buybye1623896313053.jpg\",\"car/158/damage/buybye1623896299917.jpg\",\"car/158/damage/buybye1623896327241.jpg\"],\"position\":\"Jerking\"},\n",
    "                    {\n",
    "                        \"photos\":[\n",
    "                            \"car/158/damage/buybye1623896313053.jpg\",\n",
    "                            \"car/158/damage/buybye1623896299917.jpg\",\n",
    "                            \"car/158/damage/buybye1623896327241.jpg\"\n",
    "                        ],\n",
    "                        \"position\":\"Misfire\"\n",
    "                    },\n",
    "                    {\n",
    "                        \"photos\":[\n",
    "                            \"car/158/damage/buybye1623896313053.jpg\",\n",
    "                            \"car/158/damage/buybye1623896299917.jpg\",\n",
    "                            \"car/158/damage/buybye1623896327241.jpg\"\n",
    "                        ],\n",
    "                        \"position\":\"Lack of Power\"\n",
    "                    },\n",
    "                    {\n",
    "                        \"photos\":[\n",
    "                            \"car/158/damage/buybye1623896313053.jpg\",\n",
    "                            \"car/158/damage/buybye1623896299917.jpg\",\n",
    "                            \"car/158/damage/buybye1623896327241.jpg\"\n",
    "                        ],\n",
    "                        \"position\":\"Stalling\"\n",
    "                    }\n",
    "                ]\n",
    "            }"
   ],
   "outputs": [],
   "metadata": {}
  }
 ],
 "metadata": {
  "orig_nbformat": 4,
  "language_info": {
   "name": "python",
   "version": "3.9.6",
   "mimetype": "text/x-python",
   "codemirror_mode": {
    "name": "ipython",
    "version": 3
   },
   "pygments_lexer": "ipython3",
   "nbconvert_exporter": "python",
   "file_extension": ".py"
  },
  "kernelspec": {
   "name": "python3",
   "display_name": "Python 3.9.6 64-bit"
  },
  "interpreter": {
   "hash": "aee8b7b246df8f9039afb4144a1f6fd8d2ca17a180786b69acc140d282b71a49"
  }
 },
 "nbformat": 4,
 "nbformat_minor": 2
}