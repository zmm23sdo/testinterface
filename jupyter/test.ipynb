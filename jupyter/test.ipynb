{
 "cells": [
  {
   "cell_type": "code",
   "execution_count": 3,
   "source": [
    "import random\n",
    " \n",
    "def raddomPhone():\n",
    "    headList = [\"130\", \"131\", \"132\", \"133\", \"134\", \"135\", \"136\", \"137\", \"138\", \"139\",\n",
    "               \"147\", \"150\", \"151\", \"152\", \"153\", \"155\", \"156\", \"157\", \"158\", \"159\",\n",
    "               \"186\", \"187\", \"188\", \"189\"]\n",
    "    return (random.choice(headList) + \"\".join(random.choice(\"0123456789\") for i in range(8)))\n",
    " \n",
    " \n",
    "raddomPhone()"
   ],
   "outputs": [
    {
     "output_type": "execute_result",
     "data": {
      "text/plain": [
       "'15504451326'"
      ]
     },
     "metadata": {},
     "execution_count": 3
    }
   ],
   "metadata": {}
  },
  {
   "cell_type": "code",
   "execution_count": null,
   "source": [
    "#获取登录的用户作为审核人\n",
    "for x in xxx_list[\"data\"]:\n",
    "    if x[\"name\"] == username_test:\n",
    "        # print(x[\"id\"],x[\"name\"])\n",
    "        user_executiveSellerId = str(x[\"id\"])\n",
    "        # print(\"查询获取可查看审核人id：\",user_executiveSellerId)\n",
    "        break"
   ],
   "outputs": [],
   "metadata": {}
  },
  {
   "cell_type": "code",
   "execution_count": 6,
   "source": [
    "headers = {'Authorization': 'Bearer '+token}#还原headers"
   ],
   "outputs": [
    {
     "output_type": "error",
     "ename": "NameError",
     "evalue": "name 'token' is not defined",
     "traceback": [
      "\u001b[0;31m---------------------------------------------------------------------------\u001b[0m",
      "\u001b[0;31mNameError\u001b[0m                                 Traceback (most recent call last)",
      "\u001b[0;32m/var/folders/g4/8vcpgtr56pl4l9nwxy2g6xsw0000gn/T/ipykernel_14228/71789453.py\u001b[0m in \u001b[0;36m<module>\u001b[0;34m\u001b[0m\n\u001b[0;32m----> 1\u001b[0;31m \u001b[0mheaders\u001b[0m \u001b[0;34m=\u001b[0m \u001b[0;34m{\u001b[0m\u001b[0;34m'Authorization'\u001b[0m\u001b[0;34m:\u001b[0m \u001b[0;34m'Bearer '\u001b[0m\u001b[0;34m+\u001b[0m\u001b[0mtoken\u001b[0m\u001b[0;34m}\u001b[0m\u001b[0;31m#还原headers\u001b[0m\u001b[0;34m\u001b[0m\u001b[0;34m\u001b[0m\u001b[0m\n\u001b[0m",
      "\u001b[0;31mNameError\u001b[0m: name 'token' is not defined"
     ]
    }
   ],
   "metadata": {}
  },
  {
   "cell_type": "code",
   "execution_count": 24,
   "source": [
    "#\"2021-08-20T19:40:00.337276Z\"\n",
    "day = 30\n",
    "mintue = 10\n",
    "time_notice = \"2021-08-\"+str(day)+\"T19:\"+str(mintue)+\":00.337276Z\"\n",
    "mintue = str(int(mintue)+30)\n",
    "time_start = \"2021-08-\"+str(day)+\"T19:\"+mintue+\":00.337276Z\"\n",
    "day = str(int(day)+1)\n",
    "time_end = \"2021-08-\"+day+\"T19:\"+mintue+\":00.337276Z\"\n",
    "print(\"time_notice:\",time_notice)\n",
    "print(\"time_start:\",time_start)\n",
    "print(\"time_end:\",time_end)\n",
    "print(\"day:\",day)\n",
    "print(\"mintue:\",mintue)"
   ],
   "outputs": [
    {
     "output_type": "stream",
     "name": "stdout",
     "text": [
      "time_notice: 2021-08-30T19:10:00.337276Z\n",
      "time_start: 2021-08-30T19:40:00.337276Z\n",
      "time_end: 2021-08-31T19:40:00.337276Z\n",
      "day: 31\n",
      "mintue: 40\n"
     ]
    }
   ],
   "metadata": {}
  },
  {
   "cell_type": "code",
   "execution_count": null,
   "source": [
    "import types\n",
    "from requests.models import Response\n",
    "from interface import Interface\n",
    "from myRedis import Redis\n",
    "import pytest\n",
    "import json\n",
    "import time\n",
    "import random\n",
    "from datetime import datetime\n",
    "getApprovedCars = inter.getApprovedCars(\n",
    "    id = bidding_id, \n",
    "    headers = headers\n",
    ")\n",
    "print(\"获取待关联车辆列表返回：\",getApprovedCars.json())\n",
    "#取出前三车辆的Number\n",
    "car_number1 = getApprovedCars.json()['data']['cars'][0]['number'][0]\n",
    "car_number2 = getApprovedCars.json()['data']['cars']['number'][1]\n",
    "car_number2 = getApprovedCars.json()['data']['cars']['number'][2]"
   ],
   "outputs": [],
   "metadata": {}
  },
  {
   "cell_type": "code",
   "execution_count": null,
   "source": [
    "{\n",
    "  \"brand\": \"BMW\",\n",
    "  \"type\": \"2\",\n",
    "  \"manufacturedYear\": \"1990\",\n",
    "  \"model\": \"1\"\n",
    "}"
   ],
   "outputs": [],
   "metadata": {}
  },
  {
   "cell_type": "code",
   "execution_count": 2,
   "source": [
    "import time\n",
    "import datetime\n",
    " \n",
    "# 先获得时间数组格式的日期\n",
    "threeDayAgo = (datetime.datetime.now() - datetime.timedelta(days = 3))\n",
    "# 转换为时间戳\n",
    "timeStamp = int(time.mktime(threeDayAgo.timetuple()))\n",
    "# 转换为其他字符串格式\n",
    "otherStyleTime = threeDayAgo.strftime(\"%Y-%m-%d %H:%M:%S\")\n",
    "print(otherStyleTime)"
   ],
   "outputs": [
    {
     "output_type": "stream",
     "name": "stdout",
     "text": [
      "2021-08-21 18:34:49\n"
     ]
    }
   ],
   "metadata": {}
  }
 ],
 "metadata": {
  "orig_nbformat": 4,
  "language_info": {
   "name": "python",
   "version": "3.9.6",
   "mimetype": "text/x-python",
   "codemirror_mode": {
    "name": "ipython",
    "version": 3
   },
   "pygments_lexer": "ipython3",
   "nbconvert_exporter": "python",
   "file_extension": ".py"
  },
  "kernelspec": {
   "name": "python3",
   "display_name": "Python 3.9.6 64-bit"
  },
  "interpreter": {
   "hash": "aee8b7b246df8f9039afb4144a1f6fd8d2ca17a180786b69acc140d282b71a49"
  }
 },
 "nbformat": 4,
 "nbformat_minor": 2
}