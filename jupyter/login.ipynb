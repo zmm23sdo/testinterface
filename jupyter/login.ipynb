{
 "cells": [
  {
   "cell_type": "markdown",
   "source": [
    "1、获取验证码\n",
    "\n",
    "本地开发环境：http = http://192.168.102.252:8081\n",
    "接口：获取验证码图片 = /user/admin/api/account/getVerifyCodeImage"
   ],
   "metadata": {}
  },
  {
   "cell_type": "code",
   "execution_count": 1,
   "source": [
    "#获取验证码图片\n",
    "import requests\n",
    "r = requests.get(\"http://192.168.102.252:8081/user/admin/api/account/getVerifyCodeImage\")\n",
    "verifyCodeStatus=r.status_code\n",
    "print (\"verifyCode status:\",verifyCodeStatus)\n",
    "verifyCodeId=r.json()['data']['verifyCodeId']\n",
    "#print (\"Verify Code :\",verifyCodeId)\n",
    "#获取验证码\n",
    "import redis\n",
    "R = redis.Redis(host='192.168.102.252', port=6379, decode_responses=True,password=\"qwer1234\", db=0)\n",
    "#拼接验证码id\n",
    "verify_code_id_value = \"verify_code_id_\"+verifyCodeId\n",
    "# 打印验证码id\n",
    "# print(verify_code_id_value)\n",
    "verifyCode = eval(R.get(verify_code_id_value))\n",
    "print (\"VerifyCodeId :\",verifyCodeId)\n",
    "print(\"VerifyCode :\",verifyCode)"
   ],
   "outputs": [
    {
     "output_type": "stream",
     "name": "stdout",
     "text": [
      "verifyCode status: 200\n",
      "VerifyCodeId : d677fb9c-3047\n",
      "VerifyCode : 2UVl\n"
     ]
    }
   ],
   "metadata": {}
  },
  {
   "cell_type": "markdown",
   "source": [
    "2、登录\n",
    "\n",
    "本地开发环境：http = http://192.168.102.252:8081\n",
    "接口：login = /user/admin/api/account/login"
   ],
   "metadata": {}
  },
  {
   "cell_type": "code",
   "execution_count": 2,
   "source": [
    "http = \"http://192.168.102.252:8081\"\n",
    "login = \"/user/admin/api/account/login\"\n",
    "username = \"mingvtest1\"#用户名\n",
    "password = \"qwer`123\"#密码\n",
    "import json\n",
    "import requests\n",
    "data = {\n",
    "    \"verifyCodeId\": verifyCodeId,\n",
    "    \"username\": username,\n",
    "    \"password\": password,\n",
    "    \"verifyCode\": verifyCode}\n",
    "# print(payload)#打印传参\n",
    "headers = {'Content-Type': 'application/json;charset=UTF-8'}#消息头指定\n",
    "#response = requests.post(http+login, data=data, headers=headers)#json参数会自动将字典类型的对象转换为json格式\n",
    "loginStatus=r.status_code\n",
    "r = requests.post(http+login, json=data)\n",
    "# print(http+login)\n",
    "print (\"login status:\",loginStatus)#状态码\n",
    "print(r.json())#获取返回data\n",
    "token = r.json()['data']['token']#提取返回的token\n",
    "success = r.json()['success']#提取success\n",
    "print(\"token:\",token)\n",
    "print(\"success:\",success)\n",
    "print(data)"
   ],
   "outputs": [],
   "metadata": {}
  },
  {
   "cell_type": "markdown",
   "source": [
    "3、断言"
   ],
   "metadata": {}
  },
  {
   "cell_type": "code",
   "execution_count": null,
   "source": [
    "#断言VerifyCode\n",
    "print(\"断言VerifyCode\")\n",
    "if verifyCodeStatus == 200:\n",
    "    print(\"verifyCode status SUCCESS\")\n",
    "else:\n",
    "    print(\"verifyCode status FALSE\")\n",
    "print (\"VerifyCodeId :\",verifyCodeId)\n",
    "print(\"VerifyCode :\",verifyCode)\n",
    "\n",
    "#断言Login\n",
    "print(\"断言Login\")\n",
    "if loginStatus == 200:\n",
    "    print(\"login status SUCCESS\")\n",
    "    if success is True:\n",
    "        print(\"Login SUCCESS\")\n",
    "        print(\"Token:\",token)\n",
    "    else:\n",
    "        print(\"Login False\")\n",
    "        print(\"Body Response:\",r.json())\n",
    "else:\n",
    "    print(\"Login status FALSE\")\n",
    "    print(\"URL:\",http+login)\n",
    "    print(\"Data:\",data)\n",
    "    print(\"Body Response:\",r.json())\n",
    "print(\"断言完毕\",\"-\"*100)"
   ],
   "outputs": [],
   "metadata": {}
  },
  {
   "cell_type": "code",
   "execution_count": null,
   "source": [
    "import redis\n",
    "R = redis.Redis(host='192.168.102.252', port=6379, decode_responses=True,password=\"qwer1234\", db=0)\n",
    "redis_token = R.get(token)\n",
    "verified = json.loads(redis_token);\n",
    "verified['verified'] = True\n",
    "R.set(token, json.dumps(verified))\n",
    "print(R.get(token))\n",
    "print(\"Token:\",token)\n"
   ],
   "outputs": [],
   "metadata": {}
  }
 ],
 "metadata": {
  "orig_nbformat": 4,
  "language_info": {
   "name": "python",
   "version": "3.9.6",
   "mimetype": "text/x-python",
   "codemirror_mode": {
    "name": "ipython",
    "version": 3
   },
   "pygments_lexer": "ipython3",
   "nbconvert_exporter": "python",
   "file_extension": ".py"
  },
  "kernelspec": {
   "name": "python3",
   "display_name": "Python 3.9.6 64-bit"
  },
  "interpreter": {
   "hash": "aee8b7b246df8f9039afb4144a1f6fd8d2ca17a180786b69acc140d282b71a49"
  }
 },
 "nbformat": 4,
 "nbformat_minor": 2
}