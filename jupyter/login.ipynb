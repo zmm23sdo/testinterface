{
 "cells": [
  {
   "cell_type": "markdown",
   "source": [
    "1、获取验证码\n",
    "\n",
    "本地开发环境：http = http://192.168.102.252:8081\n",
    "接口：获取验证码图片 = /user/admin/api/account/getVerifyCodeImage"
   ],
   "metadata": {}
  },
  {
   "cell_type": "code",
   "execution_count": 1,
   "source": [
    "#获取验证码图片\n",
    "import requests\n",
    "r = requests.get(\"http://192.168.102.252:8081/user/admin/api/account/getVerifyCodeImage\")\n",
    "verifyCodeStatus=r.status_code\n",
    "print (\"verifyCode status:\",verifyCodeStatus)\n",
    "verifyCodeId=r.json()['data']['verifyCodeId']\n",
    "#print (\"Verify Code :\",verifyCodeId)\n",
    "#获取验证码\n",
    "import redis\n",
    "R = redis.Redis(host='192.168.102.252', port=6379, decode_responses=True,password=\"qwer1234\", db=0)\n",
    "#拼接验证码id\n",
    "verify_code_id_value = \"verify_code_id_\"+verifyCodeId\n",
    "# 打印验证码id\n",
    "# print(verify_code_id_value)\n",
    "verifyCode = eval(R.get(verify_code_id_value))\n",
    "print (\"VerifyCodeId :\",verifyCodeId)\n",
    "print(\"VerifyCode :\",verifyCode)"
   ],
   "outputs": [
    {
     "output_type": "stream",
     "name": "stdout",
     "text": [
      "verifyCode status: 200\n",
      "VerifyCodeId : 1d075845-10406\n",
      "VerifyCode : z8jz\n"
     ]
    }
   ],
   "metadata": {}
  },
  {
   "cell_type": "markdown",
   "source": [
    "2、登录\n",
    "\n",
    "本地开发环境：http = http://192.168.102.252:8081\n",
    "接口：login = /user/admin/api/account/login"
   ],
   "metadata": {}
  },
  {
   "cell_type": "code",
   "execution_count": 2,
   "source": [
    "http = \"http://192.168.102.252:8081\"\n",
    "login = \"/user/admin/api/account/login\"\n",
    "username = \"mingvtest1\"#用户名\n",
    "password = \"qwer`123\"#密码\n",
    "import json\n",
    "import requests\n",
    "data = {\n",
    "    \"verifyCodeId\": verifyCodeId,\n",
    "    \"username\": username,\n",
    "    \"password\": password,\n",
    "    \"verifyCode\": verifyCode}\n",
    "# print(payload)#打印传参\n",
    "headers = {'Content-Type': 'application/json;charset=UTF-8'}#消息头指定\n",
    "#response = requests.post(http+login, data=data, headers=headers)#json参数会自动将字典类型的对象转换为json格式\n",
    "loginStatus=r.status_code\n",
    "r = requests.post(http+login, json=data)\n",
    "# print(http+login)\n",
    "print (\"login status:\",loginStatus)#状态码\n",
    "print(r.json())#获取返回data\n",
    "token = r.json()['data']['token']#提取返回的token\n",
    "success = r.json()['success']#提取success\n",
    "print(\"token:\",token)\n",
    "print(\"success:\",success)\n",
    "print(data)"
   ],
   "outputs": [],
   "metadata": {}
  },
  {
   "cell_type": "markdown",
   "source": [
    "3、断言"
   ],
   "metadata": {}
  },
  {
   "cell_type": "code",
   "execution_count": null,
   "source": [
    "#断言VerifyCode\n",
    "print(\"断言VerifyCode\")\n",
    "if verifyCodeStatus == 200:\n",
    "    print(\"verifyCode status SUCCESS\")\n",
    "else:\n",
    "    print(\"verifyCode status FALSE\")\n",
    "print (\"VerifyCodeId :\",verifyCodeId)\n",
    "print(\"VerifyCode :\",verifyCode)\n",
    "\n",
    "#断言Login\n",
    "print(\"断言Login\")\n",
    "if loginStatus == 200:\n",
    "    print(\"login status SUCCESS\")\n",
    "    if success is True:\n",
    "        print(\"Login SUCCESS\")\n",
    "        print(\"Token:\",token)\n",
    "    else:\n",
    "        print(\"Login False\")\n",
    "        print(\"Body Response:\",r.json())\n",
    "else:\n",
    "    print(\"Login status FALSE\")\n",
    "    print(\"URL:\",http+login)\n",
    "    print(\"Data:\",data)\n",
    "    print(\"Body Response:\",r.json())\n",
    "print(\"断言完毕\",\"-\"*100)"
   ],
   "outputs": [
    {
     "output_type": "stream",
     "name": "stdout",
     "text": [
      "断言VerifyCode\n",
      "verifyCode status SUCCESS\n",
      "VerifyCodeId : 1d075845-10137\n",
      "VerifyCode : iiYi\n",
      "断言Login\n",
      "login status SUCCESS\n",
      "Login SUCCESS\n",
      "Token: 6dcd6b4a69d84f779bf6c06451331ce0\n",
      "断言完毕 ----------------------------------------------------------------------------------------------------\n"
     ]
    }
   ],
   "metadata": {}
  },
  {
   "cell_type": "code",
   "execution_count": null,
   "source": [
    "import redis\n",
    "R = redis.Redis(host='192.168.102.252', port=6379, decode_responses=True,password=\"qwer1234\", db=0)\n",
    "redis_token = R.get(token)\n",
    "verified = json.loads(redis_token)\n",
    "verified['verified'] = True\n",
    "R.set(token, json.dumps(verified))\n",
    "print(R.get(token))\n",
    "print(\"Token:\",token)\n"
   ],
   "outputs": [
    {
     "output_type": "stream",
     "name": "stdout",
     "text": [
      "{\"id\": 231, \"username\": \"mingvtest1\", \"password\": \"{bcrypt}$2a$10$tL3ppyUh5Kr4savloE3Jr./4lL9vKKrZpCy.rL2gum9lXUyHMfHFO\", \"enabled\": true, \"accountNonExpired\": true, \"accountNonLocked\": true, \"verified\": true, \"authorities\": [\"ROLE_employee\", \"ROLE_System Admin\", \"/config/getCheckImportantConfig\", \"/config/createCheckImportantItem\", \"/config/deleteCheckImportantItem\", \"/config/getBusinessConfig\", \"/config/editBusinessConfig\", \"/spider/add\", \"/spider/uploadFile\", \"/spider/delete\", \"/spider/getList\", \"/spider/getCars\", \"/spider/update\", \"/spider/getSourceList\", \"/spider/getInterval\", \"/spider/addConfig\", \"/spider/getConfIds\", \"/spider/deleteConfig\", \"/spider/getConfigList\", \"ROLE_Customer Service Leader\", \"newLead\", \"preCheckLead\", \"assignLead\", \"getLead\", \"queryLead\", \"finishLead\", \"associateLead\", \"editLead\", \"changeCarCard\", \"/lead/finish\", \"/lead/query/unchecked\", \"/lead/new\", \"/lead/query/checked\", \"/lead/customerServiceMembers\", \"/lead/associateLead\", \"/lead/assignCustomerService\", \"/lead/edit\", \"/lead/changeCarCard\", \"/lead/check\", \"/lead/exception\", \"/lead/associateSeller\", \"/lead/associateSalesAgent\", \"/lead/disassociate\", \"/lead/\", \"/seller/leadNewSeller\", \"/seller/addIndividualSeller\", \"/seller/querySellerAccount\", \"/seller/freezeSeller\", \"/seller/unfreezeSeller\", \"/seller/closeSeller\", \"/seller/getSellerExecutive\", \"/seller/assignSeller\", \"/seller/getSellerSubsidiary\", \"/seller/sellerInfo\", \"/seller/submitIndividualSellerInfo\", \"/seller/createSellerSubsidiary\", \"/seller/closeSellerSubsidiary\", \"/seller/auditSellerInfo\", \"/seller/auditSuccess\", \"/seller/auditFail\", \"/seller/auditRevise\", \"/seller/sellerAccountHistory\", \"/inspector/disassociate\", \"/inspector/associateAgent\", \"/inspector/getCarInfo\", \"/inspector/leadToInspection\", \"/inspector/inspectorsWithTarget\", \"/inspector/getCarPhoto\", \"/inspector/cancelInspection\", \"/inspector/associateSeller\", \"/inspector/queryConfirmedInspection\", \"/inspector/getCarDamagePhoto\", \"/inspector/confirmInspection\", \"/inspector/queryNoConfirmInspections\", \"/inspector/getConfirmedInspectionInfo\", \"/inspector/noConfirmInspectionInfo\", \"/inspector/createInspection\", \"/inspector/checkerTasks\", \"/inspector/relatedCustomer\", \"/user/getCustomerServicePerformanceInfo\", \"/user/userBreakMonthDetail\", \"/user/changeCustomerServiceTarget\", \"/user/userDayTarget\", \"/user/userChangeHistory\", \"/user/changeUserWorkState\", \"/sa/leadNewSalesAgent\", \"/seller/saveEditInfo\", \"ROLE_User Admin\", \"checkGroupUser\", \"getUsers\", \"getGroupInfo\", \"groupTree\", \"getGroupRoles\", \"editUsername\", \"editGroupInfo\", \"deleteGroup\", \"createGroup\", \"editUserEmail\", \"getUserList\", \"bindTFA\", \"getQRBarcode\", \"clearTFA\", \"deleteUser\", \"resetPassword\", \"checkUser\", \"createUser\", \"/user/editUsername\", \"/user/createUser\", \"/user/checkUser\", \"/user/getGroupRoles\", \"/user/getGroupInfo\", \"/user/editGroupInfo\", \"/user/checkGroupUser\", \"/user/deleteGroup\", \"/user/groupTree\", \"/user/deleteUser\", \"/user/bindTFA\", \"/user/getQRBarcode\", \"/user/getUsers\", \"/user/createGroup\", \"/user/editUserEmail\", \"/user/resetPassword\", \"/user/clearTFA\", \"/user/getUserList\", \"ROLE_Bidding\", \"/car/getCarInfo\", \"/car/getCarDamagePhoto\", \"/car/getCarList\", \"/car/getCarHistory\", \"/car/getRelatedCustomer\", \"/car/getInspectionReportHistory\", \"/car/freezeCar\", \"/car/getCarInspectionReports\", \"/car/slotCar\", \"/car/getCompletedCarList\", \"/car/getBiddingHistory\", \"/car/getCarPhoto\", \"/bidding/getBiddingBlocks\", \"/car/unfreezeCar\", \"/bidding/getBiddingHistory\", \"/car/editReservedPrice\", \"/bidding/cancelBiddingBlock\", \"/bidding/cancelCars\", \"/bidding/getApprovedCars\", \"/bidding/getBiddingBlockInfo\", \"/bidding/queryBiddingBlock\", \"/bidding/getSlottedCars\", \"/bidding/createBiddingBlock\", \"/bidding/createBiddingBlocks\", \"/bidding/editSellerComment\", \"/bidding/editBiddingBlock\", \"/bidding/getBidList\", \"/bidding/slotCar\", \"/car/slotCars\", \"ROLE_Corporate Leader\", \"/lead/query/abnormal\", \"/lead/corporateMembers\", \"/lead/assignCorporate\", \"/seller/submitCorpSellerInfo\", \"/seller/addCorpSeller\", \"/dealer/getDealerInfo\", \"/dealer/saveEditInfo\", \"/dealer/checkEmail\", \"/dealer/closeSubsidiaryDealer\", \"/dealer/closeDealer\", \"/dealer/auditFail\", \"/dealer/reactivateDealer\", \"/dealer/auditRevise\", \"/dealer/getSubsidiaryDealer\", \"/dealer/getDealerHistory\", \"/dealer/createSubsidiaryDealer\", \"/dealer/checkPhoneNumber\", \"/dealer/getAuditDealerInfo\", \"/dealer/submitDealerInfo\", \"/dealer/freezeDealer\", \"/dealer/auditSuccess\", \"/dealer/getDealerList\", \"/dealer/getDealerExecutive\", \"/dealer/createCorporateDealer\", \"/dealer/assignDealer\", \"/dealer/checkRegistrationNumber\", \"ROLE_Inspector\", \"/inspector/queryFinishedInspection\", \"/car/createCar\", \"/car/deleteCarDamageInfo\", \"/inspector/auditSuccess\", \"/inspector/finishedInspectionInfo\", \"/car/confirmInspectionReport\", \"/car/editCarInfo\", \"/inspector/auditFail\", \"/car/deleteInspectionReport\", \"/car/deleteCarPhoto\", \"/inspector/queryCheckedInspection\", \"/car/editInspectionReportExpiredTime\", \"/car/editCarDamageInfo\", \"/inspector/auditInspectionInfo\", \"/car/createInspectionReport\", \"/car/deleteCar\", \"/car/createInspection\", \"/inspector/auditRevise\", \"/checker/changeInspectorTarget\", \"/checker/userBreakMonthDetail\", \"/checker/nationalBreak\", \"/checker/changeInspectorRegion\", \"/checker/userChangeHistory\", \"/checker/changeUserWorkState\", \"/checker/inspectorsWithBreak\", \"/checker/performanceInfo\", \"/checker/inspectorsWithTarget\", \"ROLE_admin\", \"changePassword\", \"editBusinessConfig\", \"getBusinessConfig\", \"createCheckImportantItem\", \"getCheckImportantConfig\", \"deleteCheckImportantItem\", \"dashboard\", \"createBiddingBlock\", \"getUncompletedBlockList\", \"getCompletedBlockList\", \"getBiddingBlockInfo\", \"editBiddingBlockInfo\", \"cancelBiddingBlock\", \"activateDealer\", \"getInactiveDealerList\", \"getActiveDealerList\", \"getDealerInfo\", \"editDealerInfo\", \"addDealerFile\", \"deleteDealerFile\", \"freezeDealer\", \"unfreezeDealer\", \"getEditInfoApplicationList\", \"completeEditInfoApplication\", \"createSeller\", \"editSellerInfo\", \"getSellerList\", \"add\", \"delete\", \"update\", \"getCars\", \"getList\", \"createCar\", \"getPendingCarList\", \"editCarInfo\", \"getCarInfo\", \"editCarStatus\", \"getInspectionReportStatus\", \"cancelBiddingCar\", \"getApprovedCarList\", \"getSlottedCarList\", \"getPendingBlockList\", \"slotCarBiddingBlock\", \"getCarBidResult\", \"getCarPhoto\", \"getCarDamagePhoto\", \"deleteCarPhoto\", \"editCarDamageInfo\", \"deleteCarDamagePhoto\", \"cancelBidding\", \"getEndCarList\", \"getCarBidStatics\", \"getBiddingCarList\", \"getBiddingBlockList\", \"getOrderInfo\", \"editOrderStatus\", \"getBidList\", \"getCheckerBreak\", \"createCheckerBreak\", \"getAllCheckerCarDateList\", \"getCheckerList\", \"getAllCheckerCarList\", \"getSellerCarList\", \"getCheckerCarList\", \"getCheckerCarCount\", \"createCheckerCar\", \"deleteCheckerCar\", \"getOrderList\", \"getFrozenCarList\", \"unFreezeCar\", \"getCheckerWithTime\", \"createDealership\", \"createSalesAgent\", \"getDealershipList\", \"getSalesAgentInfo\", \"getPicList\", \"getSalesAgentPicList\", \"getSalesAgentList\", \"getMasterDealership\", \"addDealershipFile\", \"deleteDealershipFile\", \"getDealershipInfo\", \"editDealershipInfo\", \"editSalesAgentInfo\", \"createSalesAgentLead\", \"ROLE_Sourcing Leader\", \"/sa/querySalesAgent\", \"/sa/submitSalesAgentInfo\", \"/sa/auditFail\", \"/sa/closeSalesAgent\", \"/sa/agentAccountHistory\", \"/sa/getSalesAgentExecutive\", \"/sa/getSalesAgentSubsidiary\", \"/sa/salesAgentInfo\", \"/sa/submitIndividualBrokerInfo\", \"/sa/auditRevise\", \"/sa/assignSalesAgent\", \"/sa/auditSuccess\", \"/sa/addSalesAgent\", \"/sa/freezeSalesAgent\", \"/sa/auditAgentInfo\", \"/sa/createSalesAgentSubsidiary\", \"/sa/saveEditInfo\", \"/sa/unfreezeSalesAgent\", \"/sa/checkEmail\", \"/sa/closeSalesAgentSubsidiary\", \"ROLE_BD Leader\", \"/seller/addSellerForDealer\", \"/dealer/createDealer\", \"ROLE_Sourcing\", \"ROLE_Operation Admin\", \"/inspector/getStatics\", \"/dealer/getNewDealerCount\", \"/sa/getNewSalesAgentCount\", \"/dealer/getNewDealerStatics\", \"/seller/getNewSellerCount\", \"/sa/getNewSalesAgentStatics\", \"/seller/getNewSellerStatics\", \"ROLE_BD\", \"ROLE_Customer Service\", \"ROLE_Corporate\", \"ROLE_Seller Executive\", \"/transaction/history\", \"/transaction/saveSellerTransInfo\", \"/transaction/submitSellerTransInfo\", \"/transaction/orderDetail\", \"/transaction/sellerTransInfo\", \"/transaction/getCarInspectionReports\", \"/transaction/getCarPhoto\", \"/transaction/getCarInfo\", \"/transaction/getCarDamagePhoto\", \"ROLE_Seller Transaction\", \"/transaction/executiveWithSeller\", \"/transaction/createBuyOutOrder\", \"/transaction/assignExecutive\", \"/transaction/exportTrans\", \"/transaction/appointmentInfo\", \"/transaction/submitAppointmentInfo\", \"/transaction/saveAppointmentInfo\", \"/transaction/executiveWithDealer\", \"/transaction/dealerTransInfo\", \"/transaction/sellerTraders\", \"/transaction/cancel\", \"/transaction/queryTransOrder\", \"/transaction/dealerTraders\", \"ROLE_Dealer Executive\", \"/transaction/saveDealerTransInfo\", \"/transaction/submitDealerTransInfo\", \"/transaction/createOfflineOrder\", \"ROLE_Transaction Admin\"], \"expiredTime\": 1628733233961, \"masterId\": null, \"children\": [0, 30, 31, 29, 33, 35, 32, 47, 34, 56, 130, 67, -3, 199, 200, 204, 192, 36, 60, 59, 62, -2, -1, 168, 169, 170, 171, 172, 173, 174, 175, 176, 177, 178, 179, 180, 181, 182, 183, 184, 185, 186, 187, 205, 206, 224, 225, 226, 227, 228, 238, 242, 243, 255, 256, 257, 259, 160, 167, 194, 197, 166, 162, 164, 229, -4, 231, 246, 260, 266, 267, 247, -5, -6, 292, 279, 275, 274, 281, 293, 282, 283, 284, 285, 286, 287, 288, 289, 290, 291, 294, 295, 296, 297, 298, 64, 91, 163, 165, 198, 195, 234, 241, 245, 252, 253, 254, 261, 268, 278], \"groupUserId\": [211, 212, 210, 214, 216, 213, 218, 215, 217, 219, 220, 221, 222], \"customerType\": null}\n",
      "Token: 6dcd6b4a69d84f779bf6c06451331ce0\n"
     ]
    }
   ],
   "metadata": {}
  }
 ],
 "metadata": {
  "orig_nbformat": 4,
  "language_info": {
   "name": "python",
   "version": "3.9.6",
   "mimetype": "text/x-python",
   "codemirror_mode": {
    "name": "ipython",
    "version": 3
   },
   "pygments_lexer": "ipython3",
   "nbconvert_exporter": "python",
   "file_extension": ".py"
  },
  "kernelspec": {
   "name": "python3",
   "display_name": "Python 3.9.6 64-bit"
  },
  "interpreter": {
   "hash": "aee8b7b246df8f9039afb4144a1f6fd8d2ca17a180786b69acc140d282b71a49"
  }
 },
 "nbformat": 4,
 "nbformat_minor": 2
}